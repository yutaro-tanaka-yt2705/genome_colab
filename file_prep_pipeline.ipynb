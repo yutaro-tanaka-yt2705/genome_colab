{
  "nbformat": 4,
  "nbformat_minor": 0,
  "metadata": {
    "colab": {
      "name": "file_prep_pipeline.ipynb",
      "provenance": [],
      "authorship_tag": "ABX9TyMma+37tt6KSW7b2XXicqqn",
      "include_colab_link": true
    },
    "kernelspec": {
      "name": "python3",
      "display_name": "Python 3"
    },
    "language_info": {
      "name": "python"
    }
  },
  "cells": [
    {
      "cell_type": "markdown",
      "metadata": {
        "id": "view-in-github",
        "colab_type": "text"
      },
      "source": [
        "<a href=\"https://colab.research.google.com/github/yutaro-tanaka-yt2705/genome_colab/blob/main/file_prep_pipeline.ipynb\" target=\"_parent\"><img src=\"https://colab.research.google.com/assets/colab-badge.svg\" alt=\"Open In Colab\"/></a>"
      ]
    },
    {
      "cell_type": "code",
      "execution_count": null,
      "metadata": {
        "id": "oGM7qh_rF3bm"
      },
      "outputs": [],
      "source": [
        ""
      ]
    },
    {
      "cell_type": "markdown",
      "source": [
        "1. Download files.\n",
        "\n",
        "Obtain files from EBI (European Nucleotide Archive).\n",
        "\n",
        "More information : https://ena-docs.readthedocs.io/en/latest/retrieval/file-download.html"
      ],
      "metadata": {
        "id": "zkecQ6DgGBf2"
      }
    },
    {
      "cell_type": "code",
      "source": [
        ""
      ],
      "metadata": {
        "id": "jLHLcdzsGU_R"
      },
      "execution_count": null,
      "outputs": []
    }
  ]
}