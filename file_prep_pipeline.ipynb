{
  "nbformat": 4,
  "nbformat_minor": 0,
  "metadata": {
    "colab": {
      "name": "file_prep_pipeline.ipynb",
      "provenance": [],
      "authorship_tag": "ABX9TyPo5Dc7OKTwKTmjtyRgBnBf",
      "include_colab_link": true
    },
    "kernelspec": {
      "name": "python3",
      "display_name": "Python 3"
    },
    "language_info": {
      "name": "python"
    }
  },
  "cells": [
    {
      "cell_type": "markdown",
      "metadata": {
        "id": "view-in-github",
        "colab_type": "text"
      },
      "source": [
        "<a href=\"https://colab.research.google.com/github/yutaro-tanaka-yt2705/genome_colab/blob/main/file_prep_pipeline.ipynb\" target=\"_parent\"><img src=\"https://colab.research.google.com/assets/colab-badge.svg\" alt=\"Open In Colab\"/></a>"
      ]
    },
    {
      "cell_type": "markdown",
      "source": [
        "## 0. Prepare general packages"
      ],
      "metadata": {
        "id": "AgUqoph5GlXR"
      }
    },
    {
      "cell_type": "code",
      "source": [
        "from google.colab import drive\n",
        "drive.mount('/content/drive')"
      ],
      "metadata": {
        "id": "U6uSSSXVHruW"
      },
      "execution_count": null,
      "outputs": []
    },
    {
      "cell_type": "code",
      "source": [
        "import glob\n",
        "from tqdm import tqdm"
      ],
      "metadata": {
        "id": "3i-ZPjfzH_Sx"
      },
      "execution_count": null,
      "outputs": []
    },
    {
      "cell_type": "code",
      "source": [
        "#make general folder in google drive\n",
        "output_folder = '' #folder in google drive to save fastq file.\n",
        "!mkdir $output_folder"
      ],
      "metadata": {
        "id": "mL9X6gwEIIG8"
      },
      "execution_count": null,
      "outputs": []
    },
    {
      "cell_type": "markdown",
      "source": [
        "## 1. Download files\n",
        "\n",
        "Obtain files from EBI (European Nucleotide Archive).\n",
        "\n",
        "https://sra-explorer.info/#\n",
        "\n",
        "More information : https://ena-docs.readthedocs.io/en/latest/retrieval/file-download.html"
      ],
      "metadata": {
        "id": "zkecQ6DgGBf2"
      }
    },
    {
      "cell_type": "code",
      "source": [
        "file_url = '' #example. replace accordingly.\n",
        "file_name = file_url.replace('ftp://ftp.sra.ebi.ac.uk', '')"
      ],
      "metadata": {
        "id": "jLHLcdzsGU_R"
      },
      "execution_count": null,
      "outputs": []
    },
    {
      "cell_type": "code",
      "source": [
        "!mkdir $output_folder/raw_fastq/"
      ],
      "metadata": {
        "id": "GZTJc_LZIT9S"
      },
      "execution_count": null,
      "outputs": []
    },
    {
      "cell_type": "code",
      "source": [
        "!curl -L $file_url -o $file_name\n",
        "!mv /content/$file_name $output_folder/$file_name"
      ],
      "metadata": {
        "id": "kfAIYGfLHPEj"
      },
      "execution_count": null,
      "outputs": []
    },
    {
      "cell_type": "code",
      "source": [
        "#download GRCh38 (for humans) or other reference genome\n",
        "ref_genome_url = '' #NCBI url for reference genome\n",
        "ref_genome_path = output_folder / \n",
        "!curl -L $ref_genome_url -o $ref_genome_path"
      ],
      "metadata": {
        "id": "ye3-wSOs6vMg"
      },
      "execution_count": null,
      "outputs": []
    },
    {
      "cell_type": "markdown",
      "source": [
        "## 2. Perform Quality Control.\n",
        "\n"
      ],
      "metadata": {
        "id": "rodva3fqHdU4"
      }
    },
    {
      "cell_type": "code",
      "source": [
        "!mkdir qc\n",
        "!cd /content/qc/\n",
        "# Install trim galore(perl)\n",
        "!wget https://raw.githubusercontent.com/FelixKrueger/TrimGalore/master/trim_galore -P /content/qc/\n",
        "!chmod a+x /content/qc/trim_galore\n",
        "!/content/qc/trim_galore\n",
        "\n",
        "# Install cutadapt(python)\n",
        "!pip3 install cutadapt -q\n",
        "# Install pigz\n",
        "!sudo apt install pigz\n",
        "\n",
        "#make output folder for trimmed fastq files.\n",
        "!mkdir $output_folder/trimmed_fastq/"
      ],
      "metadata": {
        "id": "pBP-cX2DHmKz"
      },
      "execution_count": null,
      "outputs": []
    },
    {
      "cell_type": "code",
      "source": [
        "#get list of all input ids.\n",
        "rawfastqfiles = glob.glob(output_folder+'/raw_fastq/')\n",
        "print(len(rawfastqfiles))\n",
        "print(rawfastqfiles)"
      ],
      "metadata": {
        "id": "TQnuJk3_Hoyi"
      },
      "execution_count": null,
      "outputs": []
    },
    {
      "cell_type": "code",
      "source": [
        "#check if any trimmed files exist.\n",
        "trimmedfastqfiles = glob.glob(output_folder+'/trimmed_fastq/')\n",
        "print(len(trimmedfastqfiles))\n",
        "print(trimmedfastqfiles)"
      ],
      "metadata": {
        "id": "M5vNyO3YIAAT"
      },
      "execution_count": null,
      "outputs": []
    },
    {
      "cell_type": "code",
      "source": [
        "indir, outdir = \n",
        "file1, file2 = '_1.fastq.gz', '_2.fastq.gz'\n",
        "for id in ids:\n",
        "  id = id.replace(indir, '').replace(file1, '')\n",
        "  outfile = outdir+id+'_1_val_1.fq.gz'\n",
        "  if outfile not in done_ids:\n",
        "    input_file_1, input_file_2 = indir+id+file1, indir+id+file2\n",
        "    command = ('/content/clean/trim_galore -q 25 --phred33 --length 36 --illumina --paired --stringency 3 -j 2 '+ \\\n",
        "    str(input_file_1) + ' ' + str(input_file_2) + ' '+\\\n",
        "    '-o '+ str(outdir))\n",
        "    !$command"
      ],
      "metadata": {
        "id": "Dd5BgJFTI1JN"
      },
      "execution_count": null,
      "outputs": []
    },
    {
      "cell_type": "markdown",
      "source": [
        "## 3. Perform Alignment"
      ],
      "metadata": {
        "id": "brQ_QtxeRBc9"
      }
    },
    {
      "cell_type": "code",
      "source": [
        "#install MiniMap2\n",
        "!git clone https://github.com/lh3/minimap2\n",
        "!cd minimap2 && make"
      ],
      "metadata": {
        "id": "uqTWGRi3RKA4"
      },
      "execution_count": null,
      "outputs": []
    },
    {
      "cell_type": "code",
      "source": [
        "#make alignment index file\n",
        "!/content/minimap2/minimap2 -d \\\n",
        "'/content/drive/MyDrive/015_Ciccia_Lab/immunotherapeutics_project/GWAS/minimap_ref.mmi' \\ $ref_genome_path"
      ],
      "metadata": {
        "id": "eNg58VVTRMxK"
      },
      "execution_count": null,
      "outputs": []
    },
    {
      "cell_type": "code",
      "source": [
        "trimmed_fastqs = glob.glob('/content/drive/MyDrive/015_Ciccia_Lab/immunotherapeutics_project/GWAS/qc_hugo_2/*_1.fq.gz')\n",
        "print(len(trimmed_fastqs))\n",
        "print(trimmed_fastqs)"
      ],
      "metadata": {
        "id": "PHoRQm5sRXcr"
      },
      "execution_count": null,
      "outputs": []
    },
    {
      "cell_type": "code",
      "source": [
        "aligned_ids = glob.glob('/content/drive/MyDrive/015_Ciccia_Lab/immunotherapeutics_project/GWAS/minimap2/*')\n",
        "print(len(aligned_ids))\n",
        "print(aligned_ids)"
      ],
      "metadata": {
        "id": "i5plw8g9RakG"
      },
      "execution_count": null,
      "outputs": []
    },
    {
      "cell_type": "code",
      "source": [
        "ref=''\n",
        "trimmedfastqdir='' #trimmed fastq file folder\n",
        "alignedsamdir='' #aligned sam file folder.\n",
        "file_1, file_2 = '_1_val_1.fq.gz', '_2_val_2.fq.gz'\n",
        "\n",
        "for id in ids:\n",
        "  select_id = id.replace(trimmedfastqdir, '').replace(file_1, '')\n",
        "  done_id = alignedsamdir + select_id + '.sam'\n",
        "  if done_id not in done_ids:\n",
        "      command = '/content/minimap2/minimap2 -a '+ref+' '+id+' > '+done_id\n",
        "      !$command"
      ],
      "metadata": {
        "id": "SxmNzeXlRmDZ"
      },
      "execution_count": null,
      "outputs": []
    },
    {
      "cell_type": "markdown",
      "source": [
        "## 4. Convert sam to bam file."
      ],
      "metadata": {
        "id": "IP8oe07_SC60"
      }
    },
    {
      "cell_type": "code",
      "source": [
        "!sudo apt install samtools -q"
      ],
      "metadata": {
        "id": "3kOAKl7qSD4U"
      },
      "execution_count": null,
      "outputs": []
    },
    {
      "cell_type": "code",
      "source": [
        "alignedsamfiles = glob.glob(alignedsamdir+'*')\n",
        "print(len(alignedsamfiles)))\n",
        "print(alignedsamfiles)"
      ],
      "metadata": {
        "id": "u-pt-ITSSHyN"
      },
      "execution_count": null,
      "outputs": []
    },
    {
      "cell_type": "code",
      "source": [
        "bam_dir = output_folder + '/bam_files/'\n",
        "bam_files = glob.glob(bam_dir+'*')\n",
        "print(len(bam_files))\n",
        "print(bam_files)"
      ],
      "metadata": {
        "id": "qjJxDGqk8jtt"
      },
      "execution_count": null,
      "outputs": []
    },
    {
      "cell_type": "code",
      "source": [
        "#convert sam files into bam files.\n",
        "for file in tqdm(alignedsamfiles):\n",
        "  select_id = file.replace(inputdir, '').replace('.sam', '')\n",
        "  done_id = bam_dir + select_id + '.bam'\n",
        "  if file not in bam_files:\n",
        "      command = 'samtools view -S -b '+file+' > '+done_id\n",
        "      !$command"
      ],
      "metadata": {
        "id": "SxJb1ntCSS1G"
      },
      "execution_count": null,
      "outputs": []
    },
    {
      "cell_type": "code",
      "source": [
        "sortedbamdir = output_folder + '/sortedbam_files/'\n",
        "sortedbam_files = glob.glob(sortedbamdir+'*')\n",
        "print(len(sortedbam_files))\n",
        "print(sortedbam_files)"
      ],
      "metadata": {
        "id": "A42j8kte9gN8"
      },
      "execution_count": null,
      "outputs": []
    },
    {
      "cell_type": "code",
      "source": [
        "#sort bam files\n",
        "bam_files = glob.glob(bam_dir+'*')\n",
        "for file in tqdm(bam_files):\n",
        "  select_id = file.replace(bam_dir, '')\n",
        "  done_id = sortedbamdir + select_id\n",
        "  if file not in sortedbam_files:\n",
        "    command = 'samtools sort '+file+' -o '+done_id\n",
        "    !$command"
      ],
      "metadata": {
        "id": "y8NsHDpv9QyR"
      },
      "execution_count": null,
      "outputs": []
    },
    {
      "cell_type": "code",
      "source": [
        "#call genome alignment\n",
        "!samtools faidx $raw_genome_path"
      ],
      "metadata": {
        "id": "psWbYuas6oBP"
      },
      "execution_count": null,
      "outputs": []
    },
    {
      "cell_type": "code",
      "source": [
        ""
      ],
      "metadata": {
        "id": "5UAwBb_q8KWc"
      },
      "execution_count": null,
      "outputs": []
    },
    {
      "cell_type": "markdown",
      "source": [
        ""
      ],
      "metadata": {
        "id": "tlkqDs3RScVm"
      }
    }
  ]
}